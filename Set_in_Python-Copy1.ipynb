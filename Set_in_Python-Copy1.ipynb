{
 "cells": [
  {
   "cell_type": "markdown",
   "id": "7fd3969e",
   "metadata": {},
   "source": [
    "<h2>Set in Python</h2> <br>\n",
    "<b><ol> A set :\n",
    "    <li>Is denoted by { }. </li>\n",
    "    <li>Is mutable : Can be modify after created.</li>\n",
    "    <li>Is a collection of unique values with same or different types.</li>\n",
    "    <li>never follows a sequence.</li>\n",
    "    <li>Doesn't permit duplicate values.</li>\n",
    "    <li>Values cannot be fletched using index.</li>\n",
    "    <li>Union, intersection, difference and symetric difference are supported.</li>\n",
    "</ol></b>"
   ]
  },
  {
   "cell_type": "code",
   "execution_count": 1,
   "id": "038c4e4d",
   "metadata": {},
   "outputs": [],
   "source": [
    "#Declaring a set variable\n",
    "\n",
    "#Display the value \n"
   ]
  },
  {
   "cell_type": "code",
   "execution_count": 2,
   "id": "a94a57a9",
   "metadata": {},
   "outputs": [],
   "source": [
    "#Print the type \n",
    "\n",
    "#Display the new output of l1"
   ]
  },
  {
   "cell_type": "code",
   "execution_count": 3,
   "id": "5aea6a6e",
   "metadata": {},
   "outputs": [],
   "source": [
    "#Add element in a set\n",
    "\n",
    "\n",
    "#We can add element to a set after created, because tuple is mutable.\n"
   ]
  },
  {
   "cell_type": "code",
   "execution_count": 4,
   "id": "114ae18d",
   "metadata": {},
   "outputs": [],
   "source": [
    "\n",
    "#Operation in a set\n",
    "\n",
    "#Union\n",
    "\n"
   ]
  },
  {
   "cell_type": "code",
   "execution_count": 5,
   "id": "e053a0b9",
   "metadata": {},
   "outputs": [],
   "source": [
    "#Union 2 using union method\n",
    "\n"
   ]
  },
  {
   "cell_type": "code",
   "execution_count": 6,
   "id": "fac26c94",
   "metadata": {},
   "outputs": [],
   "source": [
    "#Intersection\n"
   ]
  },
  {
   "cell_type": "code",
   "execution_count": 7,
   "id": "4e225bd1",
   "metadata": {},
   "outputs": [],
   "source": [
    "#INtersction using intersection method\n"
   ]
  },
  {
   "cell_type": "code",
   "execution_count": 8,
   "id": "e7c18dca",
   "metadata": {},
   "outputs": [],
   "source": [
    "#Copy a set\n",
    "\n",
    "\n",
    "#Remove element\n",
    "#We cannot remove element in tuple\n",
    "#Display the new list\n"
   ]
  },
  {
   "cell_type": "code",
   "execution_count": 9,
   "id": "748daa5c",
   "metadata": {},
   "outputs": [],
   "source": [
    "#Remove element from a set\n",
    "\n"
   ]
  },
  {
   "cell_type": "code",
   "execution_count": null,
   "id": "c7a03ec3",
   "metadata": {},
   "outputs": [],
   "source": []
  },
  {
   "cell_type": "code",
   "execution_count": 10,
   "id": "6372432e",
   "metadata": {},
   "outputs": [],
   "source": [
    "#Update a set\n",
    "\n"
   ]
  },
  {
   "cell_type": "code",
   "execution_count": null,
   "id": "0f696524",
   "metadata": {},
   "outputs": [],
   "source": []
  },
  {
   "cell_type": "code",
   "execution_count": 11,
   "id": "1e7ff03c",
   "metadata": {},
   "outputs": [],
   "source": [
    "#Pop in a set\n",
    "\n"
   ]
  },
  {
   "cell_type": "code",
   "execution_count": 12,
   "id": "6031b795",
   "metadata": {},
   "outputs": [],
   "source": [
    "#Symmetric difference in a set\n",
    "\n"
   ]
  },
  {
   "cell_type": "code",
   "execution_count": 13,
   "id": "211af260",
   "metadata": {},
   "outputs": [],
   "source": [
    "#Create a list and then cnvert it to list\n",
    "\n",
    "\n",
    "#COnvert list to tuple\n",
    "\n"
   ]
  },
  {
   "cell_type": "code",
   "execution_count": 14,
   "id": "a197538b",
   "metadata": {},
   "outputs": [],
   "source": [
    "#Verify the type of each one\n"
   ]
  },
  {
   "cell_type": "code",
   "execution_count": null,
   "id": "d2480857",
   "metadata": {},
   "outputs": [],
   "source": []
  },
  {
   "cell_type": "code",
   "execution_count": null,
   "id": "92f1fa02",
   "metadata": {},
   "outputs": [],
   "source": []
  },
  {
   "cell_type": "code",
   "execution_count": 15,
   "id": "7c642174",
   "metadata": {},
   "outputs": [],
   "source": [
    "#FInd the length\n"
   ]
  },
  {
   "cell_type": "code",
   "execution_count": null,
   "id": "e6e12265",
   "metadata": {},
   "outputs": [],
   "source": []
  },
  {
   "cell_type": "code",
   "execution_count": 16,
   "id": "7cc7c018",
   "metadata": {},
   "outputs": [],
   "source": [
    "#Create a list\n",
    "\n",
    "#FInd the length\n",
    "\n"
   ]
  },
  {
   "cell_type": "code",
   "execution_count": 17,
   "id": "4b42a4c2",
   "metadata": {},
   "outputs": [],
   "source": [
    "#Convert it to set\n"
   ]
  },
  {
   "cell_type": "code",
   "execution_count": 18,
   "id": "5c02f379",
   "metadata": {},
   "outputs": [],
   "source": [
    "#Find the length now\n",
    "\n"
   ]
  },
  {
   "cell_type": "markdown",
   "id": "a618c0c3",
   "metadata": {},
   "source": [
    "Note : The lengths are different because set doesn't permit duplicate value"
   ]
  },
  {
   "cell_type": "code",
   "execution_count": null,
   "id": "baa89396",
   "metadata": {},
   "outputs": [],
   "source": []
  },
  {
   "cell_type": "code",
   "execution_count": 19,
   "id": "ca0171f2",
   "metadata": {},
   "outputs": [],
   "source": [
    "#Is subset \n"
   ]
  },
  {
   "cell_type": "code",
   "execution_count": null,
   "id": "93d9ac60",
   "metadata": {},
   "outputs": [],
   "source": []
  },
  {
   "cell_type": "code",
   "execution_count": 20,
   "id": "77d4fbfc",
   "metadata": {},
   "outputs": [],
   "source": [
    "#Clear a set\n"
   ]
  },
  {
   "cell_type": "code",
   "execution_count": null,
   "id": "e6f1526b",
   "metadata": {},
   "outputs": [],
   "source": []
  },
  {
   "cell_type": "code",
   "execution_count": null,
   "id": "e606ae65",
   "metadata": {},
   "outputs": [],
   "source": []
  }
 ],
 "metadata": {
  "kernelspec": {
   "display_name": "Python 3 (ipykernel)",
   "language": "python",
   "name": "python3"
  },
  "language_info": {
   "codemirror_mode": {
    "name": "ipython",
    "version": 3
   },
   "file_extension": ".py",
   "mimetype": "text/x-python",
   "name": "python",
   "nbconvert_exporter": "python",
   "pygments_lexer": "ipython3",
   "version": "3.11.5"
  }
 },
 "nbformat": 4,
 "nbformat_minor": 5
}
