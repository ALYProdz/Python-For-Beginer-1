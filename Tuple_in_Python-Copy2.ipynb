{
 "cells": [
  {
   "cell_type": "markdown",
   "id": "7fd3969e",
   "metadata": {},
   "source": [
    "<h2>Tuples in Python</h2> <br>\n",
    "<b><ol> A tuple :\n",
    "    <li>Is denoted by ( ). </li>\n",
    "    <li>Is immutable : Cannot be modify after created.</li>\n",
    "    <li>Is a collection of values with same or different types.</li>\n",
    "    <li>We can fetch the value of a tuple using indexing.</li>\n",
    "    <li>We can slice in a tuple for printing in between values.</li>\n",
    "</ol></b>"
   ]
  },
  {
   "cell_type": "code",
   "execution_count": 1,
   "id": "038c4e4d",
   "metadata": {},
   "outputs": [],
   "source": [
    "#Declaring a tuple variable\n",
    "\n",
    "#Display the value \n"
   ]
  },
  {
   "cell_type": "code",
   "execution_count": 2,
   "id": "a94a57a9",
   "metadata": {},
   "outputs": [],
   "source": [
    "#Print the type \n",
    "\n",
    "#Display the new output of l1"
   ]
  },
  {
   "cell_type": "code",
   "execution_count": 3,
   "id": "5aea6a6e",
   "metadata": {},
   "outputs": [],
   "source": [
    "#Add element in a tuple 2\n",
    "#We cannot add element to a tuple after created, because tuple is immutable."
   ]
  },
  {
   "cell_type": "code",
   "execution_count": 4,
   "id": "114ae18d",
   "metadata": {},
   "outputs": [],
   "source": [
    "\n",
    "#Operation in a tuple\n",
    "\n"
   ]
  },
  {
   "cell_type": "code",
   "execution_count": null,
   "id": "e053a0b9",
   "metadata": {},
   "outputs": [],
   "source": []
  },
  {
   "cell_type": "code",
   "execution_count": 5,
   "id": "e7c18dca",
   "metadata": {},
   "outputs": [],
   "source": [
    "#Remove element\n",
    "#We cannot remove element in tuple\n",
    "#Display the new list\n"
   ]
  },
  {
   "cell_type": "code",
   "execution_count": 6,
   "id": "748daa5c",
   "metadata": {},
   "outputs": [],
   "source": [
    "#Count how many time a number is appear in a tuple\n",
    "\n"
   ]
  },
  {
   "cell_type": "code",
   "execution_count": 7,
   "id": "6372432e",
   "metadata": {},
   "outputs": [],
   "source": [
    "#Count how many time a number is appear.\n",
    "\n"
   ]
  },
  {
   "cell_type": "code",
   "execution_count": 8,
   "id": "0f696524",
   "metadata": {},
   "outputs": [],
   "source": [
    "#Count the number 6 in a list \n",
    "\n"
   ]
  },
  {
   "cell_type": "code",
   "execution_count": 9,
   "id": "1e7ff03c",
   "metadata": {},
   "outputs": [],
   "source": [
    "#Find element using index in a tuple\n"
   ]
  },
  {
   "cell_type": "code",
   "execution_count": null,
   "id": "6031b795",
   "metadata": {},
   "outputs": [],
   "source": []
  },
  {
   "cell_type": "code",
   "execution_count": 10,
   "id": "211af260",
   "metadata": {},
   "outputs": [],
   "source": [
    "#Create a list and then cnvert it to tuple\n",
    "\n",
    "\n",
    "#COnvert list to tuple\n",
    "\n"
   ]
  },
  {
   "cell_type": "code",
   "execution_count": 11,
   "id": "a197538b",
   "metadata": {},
   "outputs": [],
   "source": [
    "#Verify the type of each one\n"
   ]
  },
  {
   "cell_type": "code",
   "execution_count": null,
   "id": "d2480857",
   "metadata": {},
   "outputs": [],
   "source": []
  },
  {
   "cell_type": "code",
   "execution_count": null,
   "id": "92f1fa02",
   "metadata": {},
   "outputs": [],
   "source": []
  },
  {
   "cell_type": "code",
   "execution_count": 12,
   "id": "7c642174",
   "metadata": {},
   "outputs": [],
   "source": [
    "#FInd the length\n"
   ]
  },
  {
   "cell_type": "code",
   "execution_count": null,
   "id": "e6e12265",
   "metadata": {},
   "outputs": [],
   "source": []
  },
  {
   "cell_type": "code",
   "execution_count": null,
   "id": "7cc7c018",
   "metadata": {},
   "outputs": [],
   "source": []
  }
 ],
 "metadata": {
  "kernelspec": {
   "display_name": "Python 3 (ipykernel)",
   "language": "python",
   "name": "python3"
  },
  "language_info": {
   "codemirror_mode": {
    "name": "ipython",
    "version": 3
   },
   "file_extension": ".py",
   "mimetype": "text/x-python",
   "name": "python",
   "nbconvert_exporter": "python",
   "pygments_lexer": "ipython3",
   "version": "3.11.5"
  }
 },
 "nbformat": 4,
 "nbformat_minor": 5
}
