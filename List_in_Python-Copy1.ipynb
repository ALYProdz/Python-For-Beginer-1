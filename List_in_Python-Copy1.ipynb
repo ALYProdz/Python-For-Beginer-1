{
 "cells": [
  {
   "cell_type": "markdown",
   "id": "25296d8e",
   "metadata": {},
   "source": [
    "<h2>List in Python</h2>\n",
    "<b><ol> A list :\n",
    "    <li>Is denoted by [ ]. </li>\n",
    "    <li>Is mutable : Can be modify after created.</li>\n",
    "    <li>Is a collection of values with same or different types.</li>\n",
    "    <li>We can fetch the value of a list using indexing.</li>\n",
    "    <li>We can slice in a list for printing in between values.</li>\n",
    "    <li></li>\n",
    "    <li></li>\n",
    "\n",
    "</ol></b>"
   ]
  },
  {
   "cell_type": "code",
   "execution_count": 2,
   "id": "12256f7a",
   "metadata": {},
   "outputs": [],
   "source": [
    "#Declaring a list variable\n",
    "\n",
    "#Display the value \n"
   ]
  },
  {
   "cell_type": "code",
   "execution_count": 3,
   "id": "0a5a9c37",
   "metadata": {},
   "outputs": [],
   "source": [
    "#add a number in a list\n",
    "\n",
    "#Display the new output of l1\n"
   ]
  },
  {
   "cell_type": "code",
   "execution_count": 4,
   "id": "d18bf756",
   "metadata": {},
   "outputs": [],
   "source": [
    "#Add element in a list 2\n"
   ]
  },
  {
   "cell_type": "code",
   "execution_count": 5,
   "id": "92e8c7f9",
   "metadata": {},
   "outputs": [],
   "source": [
    "#Operation in a list\n"
   ]
  },
  {
   "cell_type": "code",
   "execution_count": 6,
   "id": "b60d2681",
   "metadata": {},
   "outputs": [],
   "source": [
    "#Sort a list\n",
    "\n",
    "#Display the output\n",
    "\n",
    "#sorted_list_1"
   ]
  },
  {
   "cell_type": "code",
   "execution_count": 7,
   "id": "d0b59311",
   "metadata": {},
   "outputs": [],
   "source": [
    "#Remove element in a list\n",
    "\n",
    "#Display the new list\n"
   ]
  },
  {
   "cell_type": "code",
   "execution_count": 8,
   "id": "fc5dc0bd",
   "metadata": {},
   "outputs": [],
   "source": [
    "#Pop a element in a list\n",
    "\n"
   ]
  },
  {
   "cell_type": "code",
   "execution_count": null,
   "id": "432fd892",
   "metadata": {},
   "outputs": [],
   "source": []
  },
  {
   "cell_type": "code",
   "execution_count": 9,
   "id": "8eac5be4",
   "metadata": {},
   "outputs": [],
   "source": [
    "#Operation in a list\n",
    "\n"
   ]
  },
  {
   "cell_type": "code",
   "execution_count": 10,
   "id": "8abfe5b1",
   "metadata": {},
   "outputs": [],
   "source": [
    "#Reverse a list\n",
    "\n"
   ]
  },
  {
   "cell_type": "code",
   "execution_count": null,
   "id": "f724f574",
   "metadata": {},
   "outputs": [],
   "source": []
  },
  {
   "cell_type": "code",
   "execution_count": 11,
   "id": "e2954367",
   "metadata": {},
   "outputs": [],
   "source": [
    "#Count the number in a list\n"
   ]
  },
  {
   "cell_type": "code",
   "execution_count": null,
   "id": "d899e075",
   "metadata": {},
   "outputs": [],
   "source": []
  }
 ],
 "metadata": {
  "kernelspec": {
   "display_name": "Python 3 (ipykernel)",
   "language": "python",
   "name": "python3"
  },
  "language_info": {
   "codemirror_mode": {
    "name": "ipython",
    "version": 3
   },
   "file_extension": ".py",
   "mimetype": "text/x-python",
   "name": "python",
   "nbconvert_exporter": "python",
   "pygments_lexer": "ipython3",
   "version": "3.11.5"
  }
 },
 "nbformat": 4,
 "nbformat_minor": 5
}
